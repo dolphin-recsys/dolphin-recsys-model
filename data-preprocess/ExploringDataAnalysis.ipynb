{
 "cells": [
  {
   "cell_type": "code",
   "execution_count": 1,
   "metadata": {},
   "outputs": [],
   "source": [
    "import pandas as pd\n",
    "import numpy as np"
   ]
  },
  {
   "cell_type": "code",
   "execution_count": 2,
   "metadata": {},
   "outputs": [],
   "source": [
    "def load_movies_dataset():\n",
    "    movie_data = pd.read_csv(data_dir + './movie.csv')\n",
    "    movie_data = movie_data.rename(columns = {'评分': \"豆瓣网评分\"})\n",
    "    return movie_data \n",
    "\n",
    "def load_user_and_ratings() :\n",
    "    user_data = pd.read_csv(data_dir + './user.csv')\n",
    "    #user_data['评论时间'] = pd.to_datetime(user_data['评论时间'])   \n",
    "    return user_data \n",
    "\n",
    "def load_usercomments():\n",
    "    comment_data = pd.read_csv(data_dir + './DMSC.csv')\n",
    "    return comment_data \n",
    "\n",
    "\n",
    "data_dir = 'D:/python/Jupyter_Last_project/dataset/'\n",
    "save_dir = 'D:/python/My_Project/'"
   ]
  },
  {
   "cell_type": "code",
   "execution_count": 3,
   "metadata": {},
   "outputs": [
    {
     "data": {
      "text/html": [
       "<div>\n",
       "<style scoped>\n",
       "    .dataframe tbody tr th:only-of-type {\n",
       "        vertical-align: middle;\n",
       "    }\n",
       "\n",
       "    .dataframe tbody tr th {\n",
       "        vertical-align: top;\n",
       "    }\n",
       "\n",
       "    .dataframe thead th {\n",
       "        text-align: right;\n",
       "    }\n",
       "</style>\n",
       "<table border=\"1\" class=\"dataframe\">\n",
       "  <thead>\n",
       "    <tr style=\"text-align: right;\">\n",
       "      <th></th>\n",
       "      <th>类型</th>\n",
       "      <th>主演</th>\n",
       "      <th>地区</th>\n",
       "      <th>导演</th>\n",
       "      <th>特色</th>\n",
       "      <th>豆瓣网评分</th>\n",
       "      <th>电影名</th>\n",
       "    </tr>\n",
       "  </thead>\n",
       "  <tbody>\n",
       "    <tr>\n",
       "      <th>0</th>\n",
       "      <td>剧情</td>\n",
       "      <td>徐峥|王传君|周一围|谭卓|章宇</td>\n",
       "      <td>中国大陆</td>\n",
       "      <td>文牧野</td>\n",
       "      <td>经典</td>\n",
       "      <td>8.9</td>\n",
       "      <td>我不是药神</td>\n",
       "    </tr>\n",
       "    <tr>\n",
       "      <th>1</th>\n",
       "      <td>剧情</td>\n",
       "      <td>冯小刚|许晴|张涵予|刘桦|李易峰</td>\n",
       "      <td>中国大陆</td>\n",
       "      <td>管虎</td>\n",
       "      <td>经典</td>\n",
       "      <td>7.8</td>\n",
       "      <td>老炮儿</td>\n",
       "    </tr>\n",
       "    <tr>\n",
       "      <th>2</th>\n",
       "      <td>剧情</td>\n",
       "      <td>王宝强|刘昊然|肖央|刘承羽|尚语贤</td>\n",
       "      <td>中国大陆</td>\n",
       "      <td>陈思诚</td>\n",
       "      <td>经典</td>\n",
       "      <td>6.7</td>\n",
       "      <td>唐人街探案2</td>\n",
       "    </tr>\n",
       "    <tr>\n",
       "      <th>3</th>\n",
       "      <td>剧情</td>\n",
       "      <td>任素汐|大力|刘帅良|裴魁山|阿如那</td>\n",
       "      <td>中国大陆</td>\n",
       "      <td>周申|刘露</td>\n",
       "      <td>经典</td>\n",
       "      <td>8.3</td>\n",
       "      <td>驴得水</td>\n",
       "    </tr>\n",
       "    <tr>\n",
       "      <th>4</th>\n",
       "      <td>剧情</td>\n",
       "      <td>徐峥|王宝强|李曼|李小璐|左小青</td>\n",
       "      <td>中国大陆</td>\n",
       "      <td>叶伟民</td>\n",
       "      <td>经典</td>\n",
       "      <td>7.5</td>\n",
       "      <td>人在囧途</td>\n",
       "    </tr>\n",
       "  </tbody>\n",
       "</table>\n",
       "</div>"
      ],
      "text/plain": [
       "   类型                  主演    地区     导演  特色  豆瓣网评分     电影名\n",
       "0  剧情    徐峥|王传君|周一围|谭卓|章宇  中国大陆    文牧野  经典    8.9   我不是药神\n",
       "1  剧情   冯小刚|许晴|张涵予|刘桦|李易峰  中国大陆     管虎  经典    7.8     老炮儿\n",
       "2  剧情  王宝强|刘昊然|肖央|刘承羽|尚语贤  中国大陆    陈思诚  经典    6.7  唐人街探案2\n",
       "3  剧情  任素汐|大力|刘帅良|裴魁山|阿如那  中国大陆  周申|刘露  经典    8.3     驴得水\n",
       "4  剧情   徐峥|王宝强|李曼|李小璐|左小青  中国大陆    叶伟民  经典    7.5    人在囧途"
      ]
     },
     "execution_count": 3,
     "metadata": {},
     "output_type": "execute_result"
    }
   ],
   "source": [
    "movies_data = load_movies_dataset()\n",
    "movies_data.head()\n"
   ]
  },
  {
   "cell_type": "code",
   "execution_count": 4,
   "metadata": {},
   "outputs": [
    {
     "data": {
      "text/html": [
       "<div>\n",
       "<style scoped>\n",
       "    .dataframe tbody tr th:only-of-type {\n",
       "        vertical-align: middle;\n",
       "    }\n",
       "\n",
       "    .dataframe tbody tr th {\n",
       "        vertical-align: top;\n",
       "    }\n",
       "\n",
       "    .dataframe thead th {\n",
       "        text-align: right;\n",
       "    }\n",
       "</style>\n",
       "<table border=\"1\" class=\"dataframe\">\n",
       "  <thead>\n",
       "    <tr style=\"text-align: right;\">\n",
       "      <th></th>\n",
       "      <th>index</th>\n",
       "      <th>类型</th>\n",
       "      <th>主演</th>\n",
       "      <th>地区</th>\n",
       "      <th>导演</th>\n",
       "      <th>特色</th>\n",
       "      <th>豆瓣网评分</th>\n",
       "      <th>电影名</th>\n",
       "    </tr>\n",
       "  </thead>\n",
       "  <tbody>\n",
       "    <tr>\n",
       "      <th>0</th>\n",
       "      <td>17451</td>\n",
       "      <td>剧情</td>\n",
       "      <td>乔什·布洛林|大卫·柯南伯格|北野武|伊莎贝尔·阿佳妮|碧姬·芭铎</td>\n",
       "      <td>法国</td>\n",
       "      <td>西奥·安哲罗普洛斯|奥利维耶·阿萨亚斯|比利·奥古斯特|简·坎皮恩|尤瑟夫·夏因|大卫·柯南...</td>\n",
       "      <td>文艺</td>\n",
       "      <td>7.8</td>\n",
       "      <td>每个人都有他自己的电影</td>\n",
       "    </tr>\n",
       "  </tbody>\n",
       "</table>\n",
       "</div>"
      ],
      "text/plain": [
       "   index  类型                                 主演  地区  \\\n",
       "0  17451  剧情  乔什·布洛林|大卫·柯南伯格|北野武|伊莎贝尔·阿佳妮|碧姬·芭铎  法国   \n",
       "\n",
       "                                                  导演  特色  豆瓣网评分          电影名  \n",
       "0  西奥·安哲罗普洛斯|奥利维耶·阿萨亚斯|比利·奥古斯特|简·坎皮恩|尤瑟夫·夏因|大卫·柯南...  文艺    7.8  每个人都有他自己的电影  "
      ]
     },
     "execution_count": 4,
     "metadata": {},
     "output_type": "execute_result"
    }
   ],
   "source": [
    "movies_data.loc[movies_data['导演'].str.len() > 250].reset_index()"
   ]
  },
  {
   "cell_type": "code",
   "execution_count": 5,
   "metadata": {},
   "outputs": [
    {
     "data": {
      "text/plain": [
       "267"
      ]
     },
     "execution_count": 5,
     "metadata": {},
     "output_type": "execute_result"
    }
   ],
   "source": [
    "movies_data.导演.map(lambda x: len(x)).max()"
   ]
  },
  {
   "cell_type": "code",
   "execution_count": 6,
   "metadata": {},
   "outputs": [
    {
     "data": {
      "text/plain": [
       "7.61556677538984"
      ]
     },
     "execution_count": 6,
     "metadata": {},
     "output_type": "execute_result"
    }
   ],
   "source": [
    "movies_data.导演.map(lambda x: len(x)).mean()"
   ]
  },
  {
   "cell_type": "code",
   "execution_count": 7,
   "metadata": {},
   "outputs": [
    {
     "data": {
      "text/plain": [
       "2"
      ]
     },
     "execution_count": 7,
     "metadata": {},
     "output_type": "execute_result"
    }
   ],
   "source": [
    "movies_data.导演.map(lambda x: len(x)).min()"
   ]
  },
  {
   "cell_type": "code",
   "execution_count": 8,
   "metadata": {},
   "outputs": [
    {
     "data": {
      "text/plain": [
       "剧情    24275\n",
       "爱情    15160\n",
       "喜剧    10960\n",
       "动作     5271\n",
       "犯罪     5051\n",
       "惊悚     3984\n",
       "奇幻     3741\n",
       "悬疑     3237\n",
       "冒险     3041\n",
       "科幻     2772\n",
       "音乐     2426\n",
       "传记     2037\n",
       "恐怖     2036\n",
       "历史     1778\n",
       "战争     1653\n",
       "歌舞     1141\n",
       "武侠      361\n",
       "西部      308\n",
       "灾难      292\n",
       "Name: 类型, dtype: int64"
      ]
     },
     "execution_count": 8,
     "metadata": {},
     "output_type": "execute_result"
    }
   ],
   "source": [
    "movies_data.类型.value_counts()"
   ]
  },
  {
   "cell_type": "code",
   "execution_count": 9,
   "metadata": {},
   "outputs": [
    {
     "data": {
      "text/plain": [
       "19"
      ]
     },
     "execution_count": 9,
     "metadata": {},
     "output_type": "execute_result"
    }
   ],
   "source": [
    "movies_data.类型.nunique()"
   ]
  },
  {
   "cell_type": "code",
   "execution_count": 10,
   "metadata": {},
   "outputs": [
    {
     "data": {
      "text/plain": [
       "21"
      ]
     },
     "execution_count": 10,
     "metadata": {},
     "output_type": "execute_result"
    }
   ],
   "source": [
    "movies_data.地区.nunique()"
   ]
  },
  {
   "cell_type": "code",
   "execution_count": 11,
   "metadata": {},
   "outputs": [
    {
     "data": {
      "text/plain": [
       "9"
      ]
     },
     "execution_count": 11,
     "metadata": {},
     "output_type": "execute_result"
    }
   ],
   "source": [
    "movies_data.特色.nunique()"
   ]
  },
  {
   "cell_type": "code",
   "execution_count": 12,
   "metadata": {},
   "outputs": [
    {
     "data": {
      "text/plain": [
       "78"
      ]
     },
     "execution_count": 12,
     "metadata": {},
     "output_type": "execute_result"
    }
   ],
   "source": [
    "movies_data.豆瓣网评分.nunique()"
   ]
  },
  {
   "cell_type": "code",
   "execution_count": 13,
   "metadata": {},
   "outputs": [
    {
     "data": {
      "text/plain": [
       "2.1"
      ]
     },
     "execution_count": 13,
     "metadata": {},
     "output_type": "execute_result"
    }
   ],
   "source": [
    "movies_data.豆瓣网评分.min()"
   ]
  },
  {
   "cell_type": "code",
   "execution_count": 14,
   "metadata": {},
   "outputs": [
    {
     "data": {
      "text/plain": [
       "9.8"
      ]
     },
     "execution_count": 14,
     "metadata": {},
     "output_type": "execute_result"
    }
   ],
   "source": [
    "movies_data.豆瓣网评分.max()"
   ]
  },
  {
   "cell_type": "code",
   "execution_count": 15,
   "metadata": {},
   "outputs": [
    {
     "data": {
      "text/plain": [
       "22971"
      ]
     },
     "execution_count": 15,
     "metadata": {},
     "output_type": "execute_result"
    }
   ],
   "source": [
    "movies_data.电影名.nunique()"
   ]
  },
  {
   "cell_type": "code",
   "execution_count": 16,
   "metadata": {},
   "outputs": [
    {
     "data": {
      "text/plain": [
       "13831"
      ]
     },
     "execution_count": 16,
     "metadata": {},
     "output_type": "execute_result"
    }
   ],
   "source": [
    "movies_data.导演.nunique()"
   ]
  },
  {
   "cell_type": "code",
   "execution_count": 17,
   "metadata": {},
   "outputs": [
    {
     "data": {
      "text/html": [
       "<div>\n",
       "<style scoped>\n",
       "    .dataframe tbody tr th:only-of-type {\n",
       "        vertical-align: middle;\n",
       "    }\n",
       "\n",
       "    .dataframe tbody tr th {\n",
       "        vertical-align: top;\n",
       "    }\n",
       "\n",
       "    .dataframe thead th {\n",
       "        text-align: right;\n",
       "    }\n",
       "</style>\n",
       "<table border=\"1\" class=\"dataframe\">\n",
       "  <thead>\n",
       "    <tr style=\"text-align: right;\">\n",
       "      <th></th>\n",
       "      <th>评分</th>\n",
       "      <th>用户名</th>\n",
       "      <th>评论时间</th>\n",
       "      <th>用户ID</th>\n",
       "      <th>电影名</th>\n",
       "      <th>类型</th>\n",
       "    </tr>\n",
       "  </thead>\n",
       "  <tbody>\n",
       "    <tr>\n",
       "      <th>0</th>\n",
       "      <td>2</td>\n",
       "      <td>身似</td>\n",
       "      <td>2018-01-05 15:05:06</td>\n",
       "      <td>1</td>\n",
       "      <td>心雨花露</td>\n",
       "      <td>爱情</td>\n",
       "    </tr>\n",
       "    <tr>\n",
       "      <th>1</th>\n",
       "      <td>4</td>\n",
       "      <td>有意识的贱民</td>\n",
       "      <td>2018-01-05 15:05:06</td>\n",
       "      <td>3</td>\n",
       "      <td>战争的恐怖</td>\n",
       "      <td>战争</td>\n",
       "    </tr>\n",
       "    <tr>\n",
       "      <th>2</th>\n",
       "      <td>2</td>\n",
       "      <td>亿万露电</td>\n",
       "      <td>2018-01-05 15:05:06</td>\n",
       "      <td>4</td>\n",
       "      <td>豪勇七蛟龙</td>\n",
       "      <td>战争</td>\n",
       "    </tr>\n",
       "    <tr>\n",
       "      <th>3</th>\n",
       "      <td>2</td>\n",
       "      <td>Marni</td>\n",
       "      <td>2018-01-05 15:05:06</td>\n",
       "      <td>5</td>\n",
       "      <td>无序之主</td>\n",
       "      <td>犯罪</td>\n",
       "    </tr>\n",
       "    <tr>\n",
       "      <th>4</th>\n",
       "      <td>4</td>\n",
       "      <td>坏蛋维尼?</td>\n",
       "      <td>2018-01-05 15:05:06</td>\n",
       "      <td>8</td>\n",
       "      <td>幸福是一条温暖的毛毯</td>\n",
       "      <td>喜剧</td>\n",
       "    </tr>\n",
       "  </tbody>\n",
       "</table>\n",
       "</div>"
      ],
      "text/plain": [
       "   评分     用户名                 评论时间  用户ID         电影名  类型\n",
       "0   2      身似  2018-01-05 15:05:06     1        心雨花露  爱情\n",
       "1   4  有意识的贱民  2018-01-05 15:05:06     3       战争的恐怖  战争\n",
       "2   2    亿万露电  2018-01-05 15:05:06     4       豪勇七蛟龙  战争\n",
       "3   2   Marni  2018-01-05 15:05:06     5        无序之主  犯罪\n",
       "4   4   坏蛋维尼?  2018-01-05 15:05:06     8  幸福是一条温暖的毛毯  喜剧"
      ]
     },
     "execution_count": 17,
     "metadata": {},
     "output_type": "execute_result"
    }
   ],
   "source": [
    "urdatas = load_user_and_ratings()\n",
    "urdatas.head()"
   ]
  },
  {
   "cell_type": "code",
   "execution_count": 23,
   "metadata": {},
   "outputs": [
    {
     "data": {
      "text/plain": [
       "array(['心雨花露', '战争的恐怖', '豪勇七蛟龙', ..., '我们梦中见', '不予警告', '天使的梯子'],\n",
       "      dtype=object)"
      ]
     },
     "execution_count": 23,
     "metadata": {},
     "output_type": "execute_result"
    }
   ],
   "source": [
    "urdatas.电影名.unique()"
   ]
  },
  {
   "cell_type": "code",
   "execution_count": 24,
   "metadata": {},
   "outputs": [
    {
     "name": "stdout",
     "output_type": "stream",
     "text": [
      "心雨花露\n"
     ]
    }
   ],
   "source": [
    "for i in urdatas.电影名.unique():\n",
    "    print(i)\n",
    "    break"
   ]
  },
  {
   "cell_type": "code",
   "execution_count": 18,
   "metadata": {},
   "outputs": [
    {
     "data": {
      "text/plain": [
       "评分      180186\n",
       "用户名     180186\n",
       "评论时间    180186\n",
       "用户ID    180186\n",
       "电影名     180186\n",
       "类型      180186\n",
       "dtype: int64"
      ]
     },
     "execution_count": 18,
     "metadata": {},
     "output_type": "execute_result"
    }
   ],
   "source": [
    "urdatas.count()"
   ]
  },
  {
   "cell_type": "code",
   "execution_count": 35,
   "metadata": {},
   "outputs": [
    {
     "data": {
      "text/plain": [
       "5"
      ]
     },
     "execution_count": 35,
     "metadata": {},
     "output_type": "execute_result"
    }
   ],
   "source": [
    "urdatas.评分.nunique()"
   ]
  },
  {
   "cell_type": "code",
   "execution_count": 36,
   "metadata": {},
   "outputs": [
    {
     "data": {
      "text/plain": [
       "8     71707\n",
       "4     48318\n",
       "10    47265\n",
       "2     12884\n",
       "6        12\n",
       "Name: 评分, dtype: int64"
      ]
     },
     "execution_count": 36,
     "metadata": {},
     "output_type": "execute_result"
    }
   ],
   "source": [
    "urdatas.评分.value_counts()"
   ]
  },
  {
   "cell_type": "code",
   "execution_count": 37,
   "metadata": {},
   "outputs": [
    {
     "data": {
      "text/plain": [
       "13532"
      ]
     },
     "execution_count": 37,
     "metadata": {},
     "output_type": "execute_result"
    }
   ],
   "source": [
    "urdatas.用户名.nunique()"
   ]
  },
  {
   "cell_type": "code",
   "execution_count": 38,
   "metadata": {},
   "outputs": [
    {
     "data": {
      "text/plain": [
       "13545"
      ]
     },
     "execution_count": 38,
     "metadata": {},
     "output_type": "execute_result"
    }
   ],
   "source": [
    "urdatas.用户ID.nunique()"
   ]
  },
  {
   "cell_type": "code",
   "execution_count": 39,
   "metadata": {},
   "outputs": [
    {
     "data": {
      "text/plain": [
       "20768"
      ]
     },
     "execution_count": 39,
     "metadata": {},
     "output_type": "execute_result"
    }
   ],
   "source": [
    "urdatas.电影名.nunique()"
   ]
  },
  {
   "cell_type": "code",
   "execution_count": 40,
   "metadata": {},
   "outputs": [
    {
     "data": {
      "text/plain": [
       "19"
      ]
     },
     "execution_count": 40,
     "metadata": {},
     "output_type": "execute_result"
    }
   ],
   "source": [
    "urdatas.类型.nunique()"
   ]
  },
  {
   "cell_type": "code",
   "execution_count": 41,
   "metadata": {},
   "outputs": [
    {
     "data": {
      "text/plain": [
       "爱情    39649\n",
       "犯罪    23306\n",
       "奇幻    22532\n",
       "剧情    18588\n",
       "喜剧    13259\n",
       "战争     9524\n",
       "冒险     7847\n",
       "音乐     7259\n",
       "传记     6901\n",
       "恐怖     6142\n",
       "历史     5287\n",
       "歌舞     5136\n",
       "动作     3036\n",
       "科幻     2706\n",
       "悬疑     1943\n",
       "惊悚     1900\n",
       "武侠     1829\n",
       "灾难     1727\n",
       "西部     1615\n",
       "Name: 类型, dtype: int64"
      ]
     },
     "execution_count": 41,
     "metadata": {},
     "output_type": "execute_result"
    }
   ],
   "source": [
    "urdatas.类型.value_counts()"
   ]
  },
  {
   "cell_type": "markdown",
   "metadata": {},
   "source": [
    "strtolist"
   ]
  },
  {
   "cell_type": "code",
   "execution_count": 20,
   "metadata": {},
   "outputs": [
    {
     "data": {
      "text/plain": [
       "['机动警察剧场版2', '身为人母', '夜店北京']"
      ]
     },
     "execution_count": 20,
     "metadata": {},
     "output_type": "execute_result"
    }
   ],
   "source": [
    "li = '机动警察剧场版2 身为人母 夜店北京'\n",
    "li.split(\" \")\n"
   ]
  },
  {
   "cell_type": "code",
   "execution_count": null,
   "metadata": {},
   "outputs": [],
   "source": []
  }
 ],
 "metadata": {
  "kernelspec": {
   "display_name": "Python [conda env:py36]",
   "language": "python",
   "name": "conda-env-py36-py"
  },
  "language_info": {
   "codemirror_mode": {
    "name": "ipython",
    "version": 3
   },
   "file_extension": ".py",
   "mimetype": "text/x-python",
   "name": "python",
   "nbconvert_exporter": "python",
   "pygments_lexer": "ipython3",
   "version": "3.6.12"
  }
 },
 "nbformat": 4,
 "nbformat_minor": 4
}
