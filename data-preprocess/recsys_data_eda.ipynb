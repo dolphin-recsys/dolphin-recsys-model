{
 "cells": [
  {
   "cell_type": "markdown",
   "metadata": {},
   "source": [
    "# recsys data eda\n",
    "all the current user movie user relation data analyse"
   ]
  },
  {
   "cell_type": "code",
   "execution_count": 2,
   "metadata": {},
   "outputs": [],
   "source": [
    "import pandas as pd\n",
    "import numpy as np\n",
    "import matplotlib.pyplot as plt\n",
    "import os\n",
    "import seaborn as sns\n",
    "%matplotlib inline"
   ]
  },
  {
   "cell_type": "code",
   "execution_count": 3,
   "metadata": {},
   "outputs": [],
   "source": [
    "data_folder = '../dataset'\n",
    "\n",
    "# movie and user csv data set\n",
    "movie_comments_csv_path = '../dataset/DMSC.csv'\n",
    "movie_csv_file_path = '../dataset/dataset1/movie.csv'\n",
    "user_csv_file_path = '../dataset/dataset1/user.csv'\n",
    "\n",
    "# user relation data set\n",
    "edge_csv_file_path = '../dataset/dataset2/edges.csv'\n",
    "node_csv_file_path = '../dataset/dataset2/nodes.csv'\n",
    "\n",
    "# source json file path \n",
    "# json data just contains the movie information\n",
    "movie_json_path = '../dataset/movie.json'\n",
    "spider_json_path = '../dataset/spider.json'"
   ]
  },
  {
   "cell_type": "markdown",
   "metadata": {},
   "source": [
    "## movie comments data\n",
    "DMSC.csv"
   ]
  },
  {
   "cell_type": "code",
   "execution_count": 4,
   "metadata": {},
   "outputs": [
    {
     "data": {
      "text/html": [
       "<div>\n",
       "<style scoped>\n",
       "    .dataframe tbody tr th:only-of-type {\n",
       "        vertical-align: middle;\n",
       "    }\n",
       "\n",
       "    .dataframe tbody tr th {\n",
       "        vertical-align: top;\n",
       "    }\n",
       "\n",
       "    .dataframe thead th {\n",
       "        text-align: right;\n",
       "    }\n",
       "</style>\n",
       "<table border=\"1\" class=\"dataframe\">\n",
       "  <thead>\n",
       "    <tr style=\"text-align: right;\">\n",
       "      <th></th>\n",
       "      <th>ID</th>\n",
       "      <th>Movie_Name_EN</th>\n",
       "      <th>Movie_Name_CN</th>\n",
       "      <th>Crawl_Date</th>\n",
       "      <th>Number</th>\n",
       "      <th>Username</th>\n",
       "      <th>Date</th>\n",
       "      <th>Star</th>\n",
       "      <th>Comment</th>\n",
       "      <th>Like</th>\n",
       "    </tr>\n",
       "  </thead>\n",
       "  <tbody>\n",
       "    <tr>\n",
       "      <th>0</th>\n",
       "      <td>0</td>\n",
       "      <td>Avengers Age of Ultron</td>\n",
       "      <td>复仇者联盟2</td>\n",
       "      <td>2017-01-22</td>\n",
       "      <td>1</td>\n",
       "      <td>然潘</td>\n",
       "      <td>2015-05-13</td>\n",
       "      <td>3</td>\n",
       "      <td>连奥创都知道整容要去韩国。</td>\n",
       "      <td>2404</td>\n",
       "    </tr>\n",
       "    <tr>\n",
       "      <th>1</th>\n",
       "      <td>1</td>\n",
       "      <td>Avengers Age of Ultron</td>\n",
       "      <td>复仇者联盟2</td>\n",
       "      <td>2017-01-22</td>\n",
       "      <td>2</td>\n",
       "      <td>更深的白色</td>\n",
       "      <td>2015-04-24</td>\n",
       "      <td>2</td>\n",
       "      <td>非常失望，剧本完全敷衍了事，主线剧情没突破大家可以理解，可所有的人物都缺乏动机，正邪之间、...</td>\n",
       "      <td>1231</td>\n",
       "    </tr>\n",
       "    <tr>\n",
       "      <th>2</th>\n",
       "      <td>2</td>\n",
       "      <td>Avengers Age of Ultron</td>\n",
       "      <td>复仇者联盟2</td>\n",
       "      <td>2017-01-22</td>\n",
       "      <td>3</td>\n",
       "      <td>有意识的贱民</td>\n",
       "      <td>2015-04-26</td>\n",
       "      <td>2</td>\n",
       "      <td>2015年度最失望作品。以为面面俱到，实则画蛇添足；以为主题深刻，实则老调重弹；以为推陈出...</td>\n",
       "      <td>1052</td>\n",
       "    </tr>\n",
       "    <tr>\n",
       "      <th>3</th>\n",
       "      <td>3</td>\n",
       "      <td>Avengers Age of Ultron</td>\n",
       "      <td>复仇者联盟2</td>\n",
       "      <td>2017-01-22</td>\n",
       "      <td>4</td>\n",
       "      <td>不老的李大爷耶</td>\n",
       "      <td>2015-04-23</td>\n",
       "      <td>4</td>\n",
       "      <td>《铁人2》中勾引钢铁侠，《妇联1》中勾引鹰眼，《美队2》中勾引美国队长，在《妇联2》中终于...</td>\n",
       "      <td>1045</td>\n",
       "    </tr>\n",
       "    <tr>\n",
       "      <th>4</th>\n",
       "      <td>4</td>\n",
       "      <td>Avengers Age of Ultron</td>\n",
       "      <td>复仇者联盟2</td>\n",
       "      <td>2017-01-22</td>\n",
       "      <td>5</td>\n",
       "      <td>ZephyrO</td>\n",
       "      <td>2015-04-22</td>\n",
       "      <td>2</td>\n",
       "      <td>虽然从头打到尾，但是真的很无聊啊。</td>\n",
       "      <td>723</td>\n",
       "    </tr>\n",
       "  </tbody>\n",
       "</table>\n",
       "</div>"
      ],
      "text/plain": [
       "   ID           Movie_Name_EN Movie_Name_CN  Crawl_Date  Number Username  \\\n",
       "0   0  Avengers Age of Ultron        复仇者联盟2  2017-01-22       1       然潘   \n",
       "1   1  Avengers Age of Ultron        复仇者联盟2  2017-01-22       2    更深的白色   \n",
       "2   2  Avengers Age of Ultron        复仇者联盟2  2017-01-22       3   有意识的贱民   \n",
       "3   3  Avengers Age of Ultron        复仇者联盟2  2017-01-22       4  不老的李大爷耶   \n",
       "4   4  Avengers Age of Ultron        复仇者联盟2  2017-01-22       5  ZephyrO   \n",
       "\n",
       "         Date  Star                                            Comment  Like  \n",
       "0  2015-05-13     3                                      连奥创都知道整容要去韩国。  2404  \n",
       "1  2015-04-24     2   非常失望，剧本完全敷衍了事，主线剧情没突破大家可以理解，可所有的人物都缺乏动机，正邪之间、...  1231  \n",
       "2  2015-04-26     2   2015年度最失望作品。以为面面俱到，实则画蛇添足；以为主题深刻，实则老调重弹；以为推陈出...  1052  \n",
       "3  2015-04-23     4   《铁人2》中勾引钢铁侠，《妇联1》中勾引鹰眼，《美队2》中勾引美国队长，在《妇联2》中终于...  1045  \n",
       "4  2015-04-22     2                                  虽然从头打到尾，但是真的很无聊啊。   723  "
      ]
     },
     "execution_count": 4,
     "metadata": {},
     "output_type": "execute_result"
    }
   ],
   "source": [
    "movie_comments = pd.read_csv(movie_comments_csv_path)\n",
    "movie_comments.head()"
   ]
  },
  {
   "cell_type": "code",
   "execution_count": 5,
   "metadata": {},
   "outputs": [
    {
     "name": "stdout",
     "output_type": "stream",
     "text": [
      "<class 'pandas.core.frame.DataFrame'>\n",
      "RangeIndex: 2125056 entries, 0 to 2125055\n",
      "Data columns (total 10 columns):\n",
      "ID               int64\n",
      "Movie_Name_EN    object\n",
      "Movie_Name_CN    object\n",
      "Crawl_Date       object\n",
      "Number           int64\n",
      "Username         object\n",
      "Date             object\n",
      "Star             int64\n",
      "Comment          object\n",
      "Like             int64\n",
      "dtypes: int64(4), object(6)\n",
      "memory usage: 162.1+ MB\n",
      "None\n",
      "some comments do not record the Username\n",
      "ID               False\n",
      "Movie_Name_EN    False\n",
      "Movie_Name_CN    False\n",
      "Crawl_Date       False\n",
      "Number           False\n",
      "Username          True\n",
      "Date             False\n",
      "Star             False\n",
      "Comment          False\n",
      "Like             False\n",
      "dtype: bool\n",
      "ID column equals index\n",
      "set()\n"
     ]
    }
   ],
   "source": [
    "print(movie_comments.info())\n",
    "print(\"some comments do not record the Username\")\n",
    "print(movie_comments.isna().any())\n",
    "print(\"ID column equals index\")\n",
    "print(set(movie_comments['ID'].unique()) - set(movie_comments.index))"
   ]
  },
  {
   "cell_type": "code",
   "execution_count": 6,
   "metadata": {},
   "outputs": [
    {
     "name": "stdout",
     "output_type": "stream",
     "text": [
      "commented movies length: 28\n",
      "['七月与安生' '九层妖塔' '何以笙箫默' '你的名字' '十二生肖' '变形金刚4' '后会无期' '复仇者联盟' '复仇者联盟2'\n",
      " '夏洛特烦恼' '大圣归来' '大鱼海棠' '寻龙诀' '小时代1' '小时代3' '左耳' '栀子花开' '泰囧' '湄公河行动' '爱乐之城'\n",
      " '疯狂动物城' '美人鱼' '美国队长3' '西游伏妖篇' '西游降魔篇' '釜山行' '钢铁侠1' '长城']\n",
      "all the moveis length in the comment data: 28\n"
     ]
    }
   ],
   "source": [
    "res = movie_comments.groupby('Movie_Name_CN').size()\n",
    "print(\"commented movies length: \" + str(len(res)))\n",
    "print(res.index.values)\n",
    "print(\"all the moveis length in the comment data: \" + str(len(movie_comments['Movie_Name_CN'].unique())))\n",
    "# comments data just contains 28 movies."
   ]
  },
  {
   "cell_type": "code",
   "execution_count": 7,
   "metadata": {},
   "outputs": [
    {
     "name": "stdout",
     "output_type": "stream",
     "text": [
      "23034\n",
      "0     我不是药神\n",
      "1       老炮儿\n",
      "2    唐人街探案2\n",
      "3       驴得水\n",
      "4      人在囧途\n",
      "5       无人区\n",
      "6      鬼子来了\n",
      "7      无问西东\n",
      "8      邪不压正\n",
      "9    11度青春之\n",
      "Name: 电影名, dtype: object\n",
      "all the movies length in movie data: 22985\n"
     ]
    }
   ],
   "source": [
    "movie_df = pd.read_csv(movie_csv_file_path)\n",
    "def func(item):\n",
    "    if item.isnumeric() == True:\n",
    "        return np.nan\n",
    "    else:\n",
    "        return item\n",
    "print(len(movie_df['电影名'].unique()))\n",
    "res = movie_df['电影名'].astype(str).apply(func).dropna()\n",
    "print(res.head(10))\n",
    "print('all the movies length in movie data: ' + str(len(res.unique())))"
   ]
  },
  {
   "cell_type": "markdown",
   "metadata": {},
   "source": [
    "## user data"
   ]
  },
  {
   "cell_type": "code",
   "execution_count": 10,
   "metadata": {},
   "outputs": [
    {
     "name": "stdout",
     "output_type": "stream",
     "text": [
      "<class 'pandas.core.frame.DataFrame'>\n",
      "RangeIndex: 199813 entries, 0 to 199812\n",
      "Data columns (total 6 columns):\n",
      "评分      199813 non-null int64\n",
      "用户名     199813 non-null object\n",
      "评论时间    199813 non-null object\n",
      "用户ID    199813 non-null int64\n",
      "电影名     199813 non-null object\n",
      "类型      199813 non-null object\n",
      "dtypes: int64(2), object(4)\n",
      "memory usage: 9.1+ MB\n",
      "None\n",
      "   评分     用户名                 评论时间  用户ID    电影名  类型\n",
      "0   2      身似  2018-01-05 15:05:06     1   心雨花露  爱情\n",
      "1   4  有意识的贱民  2018-01-05 15:05:06     3  战争的恐怖  战争\n",
      "2   2    亿万露电  2018-01-05 15:05:06     4  豪勇七蛟龙  战争\n"
     ]
    }
   ],
   "source": [
    "user_data = pd.read_csv(user_csv_file_path)\n",
    "print(user_data.info())\n",
    "print(user_data.head(3))"
   ]
  },
  {
   "cell_type": "code",
   "execution_count": 50,
   "metadata": {},
   "outputs": [
    {
     "name": "stdout",
     "output_type": "stream",
     "text": [
      "object\n",
      "<class 'str'>\n"
     ]
    }
   ],
   "source": [
    "print(user_data['评论时间'].dtype)\n",
    "print(type(user_data['评论时间'][0]))"
   ]
  },
  {
   "cell_type": "code",
   "execution_count": 9,
   "metadata": {},
   "outputs": [
    {
     "name": "stdout",
     "output_type": "stream",
     "text": [
      "--------------------user information--------------------\n",
      "<class 'pandas.core.frame.DataFrame'>\n",
      "RangeIndex: 199813 entries, 0 to 199812\n",
      "Data columns (total 6 columns):\n",
      "评分      199813 non-null int64\n",
      "用户名     199813 non-null object\n",
      "评论时间    199813 non-null object\n",
      "用户ID    199813 non-null int64\n",
      "电影名     199813 non-null object\n",
      "类型      199813 non-null object\n",
      "dtypes: int64(2), object(4)\n",
      "memory usage: 9.1+ MB\n",
      "None\n",
      "--------------------user information contains any null--------------------\n",
      "评分      False\n",
      "用户名     False\n",
      "评论时间    False\n",
      "用户ID    False\n",
      "电影名     False\n",
      "类型      False\n",
      "dtype: bool\n"
     ]
    }
   ],
   "source": [
    "print(('-'*20 + '{}' + '-'*20).format(\"user information\"))\n",
    "print(user_data.info())\n",
    "print(('-'*20 + '{}' + '-'*20).format(\"user information contains any null\"))\n",
    "print(user_data.isna().any())"
   ]
  },
  {
   "cell_type": "code",
   "execution_count": 11,
   "metadata": {},
   "outputs": [
    {
     "name": "stdout",
     "output_type": "stream",
     "text": [
      "total length of movie 199813\n",
      "unique movie length 23031\n"
     ]
    }
   ],
   "source": [
    "print(\"total length of movie {}\".format(len(user_data['电影名'])))\n",
    "print(\"unique movie length {}\".format(len(user_data['电影名'].unique())))\n",
    "# have duplicated movies."
   ]
  },
  {
   "cell_type": "code",
   "execution_count": 66,
   "metadata": {},
   "outputs": [
    {
     "name": "stdout",
     "output_type": "stream",
     "text": [
      "--------------------all the rating values--------------------\n",
      "[ 2  4  8 10  6]\n",
      "max rating 10 and min rating 2 \n",
      "the rating user name length is 13532 \n",
      "the rating user id length is 13545 \n",
      "the total movie length is 23031 \n",
      "drop duplicates date length is 199813 \n",
      "the total movie types length is 21\n",
      "--------------------total movie types--------------------\n",
      "['爱情' '战争' '犯罪' '同性' '喜剧' '冒险' '歌舞' '情色' '剧情' '奇幻' '音乐' '武侠' '恐怖' '传记'\n",
      " '悬疑' '历史' '惊悚' '动作' '科幻' '西部' '灾难']\n",
      "--------------------rating time range--------------------\n",
      "datetime64[ns]\n",
      "<class 'pandas._libs.tslibs.timestamps.Timestamp'>\n",
      "datetime64[ns]\n",
      "<class 'pandas._libs.tslibs.timestamps.Timestamp'>\n",
      "lateast comment time 2018-02-07 22:02:57 and oldest comment time 2018-01-05 15:05:06\n"
     ]
    }
   ],
   "source": [
    "# analyse the rating range\n",
    "print(('-'*20 + '{}' + '-'*20).format(\"all the rating values\"))\n",
    "print(user_data['评分'].unique())\n",
    "print(\"max rating {} and min rating {} \".format(max(user_data['评分']), min(user_data['评分'])))\n",
    "print(\"the rating user name length is {} \".format(len(user_data['用户名'].unique())))\n",
    "print(\"the rating user id length is {} \".format(len(user_data['用户ID'].unique())))\n",
    "\n",
    "print(\"the total movie length is {} \".format(len(user_data['电影名'].unique())))\n",
    "# same with the dataframe size so there is no duplicated user, movie pair\n",
    "print(\"drop duplicates date length is {} \".format(len(user_data.drop_duplicates(['用户名', '电影名']))))\n",
    "\n",
    "\n",
    "print(\"the total movie types length is {}\".format(len(user_data['类型'].unique())))\n",
    "print(('-'*20 + '{}' + '-'*20).format(\"total movie types\"))\n",
    "print(user_data['类型'].unique())\n",
    "print(('-'*20 + '{}' + '-'*20).format(\"rating time range\"))\n",
    "# use print will show object not use print will show dtype('o')\n",
    "print(user_data['评论时间'].dtype)\n",
    "# str type\n",
    "print(type(user_data['评论时间'][0]))\n",
    "# convert datetime str to pd.Timestamp type\n",
    "user_data['评论时间'] = pd.to_datetime(user_data['评论时间'])\n",
    "print(user_data['评论时间'].dtype)\n",
    "print(type(user_data['评论时间'][0]))\n",
    "print(\"lateast comment time {} and oldest comment time {}\".format(user_data['评论时间'].max(), user_data['评论时间'].min()))"
   ]
  },
  {
   "cell_type": "markdown",
   "metadata": {},
   "source": [
    "## movie data"
   ]
  },
  {
   "cell_type": "code",
   "execution_count": 39,
   "metadata": {},
   "outputs": [],
   "source": [
    "movie_data = pd.read_csv(movie_csv_file_path)"
   ]
  },
  {
   "cell_type": "code",
   "execution_count": 41,
   "metadata": {},
   "outputs": [
    {
     "name": "stdout",
     "output_type": "stream",
     "text": [
      "--------------------movie data information--------------------\n",
      "<class 'pandas.core.frame.DataFrame'>\n",
      "RangeIndex: 93160 entries, 0 to 93159\n",
      "Data columns (total 7 columns):\n",
      "类型     93160 non-null object\n",
      "主演     93160 non-null object\n",
      "地区     93160 non-null object\n",
      "导演     93160 non-null object\n",
      "特色     93160 non-null object\n",
      "评分     93160 non-null float64\n",
      "电影名    93160 non-null object\n",
      "dtypes: float64(1), object(6)\n",
      "memory usage: 5.0+ MB\n",
      "None\n",
      "--------------------movie data contains null data--------------------\n",
      "类型     False\n",
      "主演     False\n",
      "地区     False\n",
      "导演     False\n",
      "特色     False\n",
      "评分     False\n",
      "电影名    False\n",
      "dtype: bool\n"
     ]
    }
   ],
   "source": [
    "print(('-'*20 + '{}' + '-'*20).format(\"movie data information\"))\n",
    "print(movie_data.info())\n",
    "print(('-'*20 + '{}' + '-'*20).format(\"movie data contains null data\"))\n",
    "print(movie_data.isna().any())"
   ]
  },
  {
   "cell_type": "code",
   "execution_count": 63,
   "metadata": {},
   "outputs": [
    {
     "name": "stdout",
     "output_type": "stream",
     "text": [
      "0    剧情\n",
      "1    剧情\n",
      "2    剧情\n",
      "Name: 类型, dtype: object\n",
      "--------------------unique movie type--------------------\n",
      "['剧情' '喜剧' '动作' '爱情' '科幻' '悬疑' '惊悚' '恐怖' '犯罪' '同性' '冒险' '音乐' '歌舞' '传记'\n",
      " '历史' '西部' '战争' '情色' '武侠' '灾难' '奇幻']\n",
      "0      徐峥|王传君|周一围|谭卓|章宇\n",
      "1     冯小刚|许晴|张涵予|刘桦|李易峰\n",
      "2    王宝强|刘昊然|肖央|刘承羽|尚语贤\n",
      "Name: 主演, dtype: object\n",
      "0    中国大陆\n",
      "1    中国大陆\n",
      "2    中国大陆\n",
      "Name: 地区, dtype: object\n",
      "0    文牧野\n",
      "1     管虎\n",
      "2    陈思诚\n",
      "Name: 导演, dtype: object\n",
      "0    经典\n",
      "1    经典\n",
      "2    经典\n",
      "Name: 特色, dtype: object\n",
      "['经典' '青春' '文艺' '搞笑' '励志' '魔幻' '感人' '女性' '黑帮']\n",
      "movie length 23034 \n"
     ]
    }
   ],
   "source": [
    "print(movie_data['类型'].head(3))\n",
    "print(('-'*20 + '{}' + '-'*20).format(\"unique movie type\"))\n",
    "# 21 types same with the user data\n",
    "print(movie_data['类型'].unique())\n",
    "# | split data\n",
    "print(movie_data['主演'].head(3))\n",
    "\n",
    "print(movie_data['地区'].head(3))\n",
    "\n",
    "print(movie_data['导演'].head(3))\n",
    "\n",
    "print(movie_data['特色'].head(3))\n",
    "\n",
    "# 9 customised tags about movies\n",
    "print(movie_data['特色'].unique())\n",
    "\n",
    "# just 23034 unique movies\n",
    "print(\"unique movie length {} \" .format(len(movie_data['电影名'].unique())))"
   ]
  },
  {
   "cell_type": "code",
   "execution_count": 70,
   "metadata": {},
   "outputs": [
    {
     "data": {
      "text/plain": [
       "0                                 徐峥\n",
       "0                                王传君\n",
       "0                                周一围\n",
       "0                                 谭卓\n",
       "0                                 章宇\n",
       "1                                冯小刚\n",
       "1                                 许晴\n",
       "1                                张涵予\n",
       "1                                 刘桦\n",
       "1                                李易峰\n",
       "2                                王宝强\n",
       "2                                刘昊然\n",
       "2                                 肖央\n",
       "2                                刘承羽\n",
       "2                                尚语贤\n",
       "3                                任素汐\n",
       "3                                 大力\n",
       "3                                刘帅良\n",
       "3                                裴魁山\n",
       "3                                阿如那\n",
       "4                                 徐峥\n",
       "4                                王宝强\n",
       "4                                 李曼\n",
       "4                                李小璐\n",
       "4                                左小青\n",
       "5                                 徐峥\n",
       "5                                 黄渤\n",
       "5                                 余男\n",
       "5                                多布杰\n",
       "5                                王双宝\n",
       "                    ...             \n",
       "93049               Cirque du Soleil\n",
       "93050                      克里斯托弗·普卢默\n",
       "93050                       格莱妮丝·约翰斯\n",
       "93091                   Sasha Stoger\n",
       "93091                   Seb McKinnon\n",
       "93091                 Charlie Prince\n",
       "93091                     Cedrik Roy\n",
       "93091               Mikhail Smilovic\n",
       "93122                       西莉亚·史都斯坦\n",
       "93122                     托马斯·冯·布罗姆森\n",
       "93122                 Andrine S?ther\n",
       "93122                  Bj?rn Floberg\n",
       "93122                        汉斯·艾尔佛森\n",
       "93124                  Lars V?ringer\n",
       "93125                      古斯塔·斯卡斯加德\n",
       "93125                         图娃·诺沃妮\n",
       "93125                      Li Br?dhe\n",
       "93125                         乔尔·金纳曼\n",
       "93130                        大卫·桑德伯格\n",
       "93130                         乔玛·塔科内\n",
       "93130                        安德刘斯·卡宁\n",
       "93130                          爱莲妮 杨\n",
       "93130               Bj?rn Gustafsson\n",
       "93145    Frederik Christian Johansen\n",
       "93145                  Lars Brygmann\n",
       "93145                 Birthe Neumann\n",
       "93158         Sara Langeb?k Gaarmann\n",
       "93158             Lucas Munk Billing\n",
       "93158                       Anders W\n",
       "93158                     Berthelsen\n",
       "Length: 90884, dtype: object"
      ]
     },
     "execution_count": 70,
     "metadata": {},
     "output_type": "execute_result"
    }
   ],
   "source": [
    "# expand the column\n",
    "movie_data['主演'].drop_duplicates().str.split('|', expand=True).stack().reset_index(level=1, drop=True)"
   ]
  },
  {
   "cell_type": "markdown",
   "metadata": {},
   "source": [
    "# CF recall process"
   ]
  },
  {
   "cell_type": "markdown",
   "metadata": {},
   "source": [
    "## deal with id\n",
    "in spark als algo userId and movieId should be integer\n",
    "so should maintain a look up table to save the integer id and source id \n",
    "of users and movies."
   ]
  },
  {
   "cell_type": "code",
   "execution_count": null,
   "metadata": {},
   "outputs": [],
   "source": []
  }
 ],
 "metadata": {
  "kernelspec": {
   "display_name": "Python 3",
   "language": "python",
   "name": "python3"
  },
  "language_info": {
   "codemirror_mode": {
    "name": "ipython",
    "version": 3
   },
   "file_extension": ".py",
   "mimetype": "text/x-python",
   "name": "python",
   "nbconvert_exporter": "python",
   "pygments_lexer": "ipython3",
   "version": "3.7.3"
  },
  "toc": {
   "base_numbering": 1,
   "nav_menu": {},
   "number_sections": true,
   "sideBar": true,
   "skip_h1_title": false,
   "title_cell": "Table of Contents",
   "title_sidebar": "Contents",
   "toc_cell": false,
   "toc_position": {
    "height": "calc(100% - 180px)",
    "left": "10px",
    "top": "150px",
    "width": "336px"
   },
   "toc_section_display": true,
   "toc_window_display": true
  }
 },
 "nbformat": 4,
 "nbformat_minor": 2
}
